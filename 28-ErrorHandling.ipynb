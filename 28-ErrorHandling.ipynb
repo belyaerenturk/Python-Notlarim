{
 "cells": [
  {
   "cell_type": "code",
   "execution_count": 1,
   "id": "c33df021",
   "metadata": {},
   "outputs": [],
   "source": [
    "def summation(num1, num2):\n",
    "    return num1 + num2"
   ]
  },
  {
   "cell_type": "code",
   "execution_count": 8,
   "id": "0df24e7c",
   "metadata": {},
   "outputs": [
    {
     "name": "stdout",
     "output_type": "stream",
     "text": [
      "Enter number: james\n"
     ]
    }
   ],
   "source": [
    "x = input(\"Enter number: \")"
   ]
  },
  {
   "cell_type": "code",
   "execution_count": 9,
   "id": "08278c5a",
   "metadata": {},
   "outputs": [
    {
     "name": "stdout",
     "output_type": "stream",
     "text": [
      "Enter number: 20\n"
     ]
    }
   ],
   "source": [
    "y = input(\"Enter number: \")"
   ]
  },
  {
   "cell_type": "code",
   "execution_count": 17,
   "id": "d27fc595",
   "metadata": {},
   "outputs": [],
   "source": [
    "def numberpower(num1):\n",
    "    return num1 ** 2"
   ]
  },
  {
   "cell_type": "markdown",
   "id": "fe9ff09e",
   "metadata": {},
   "source": [
    "## try, except, finally"
   ]
  },
  {
   "cell_type": "code",
   "execution_count": 21,
   "id": "2390fd86",
   "metadata": {},
   "outputs": [
    {
     "name": "stdout",
     "output_type": "stream",
     "text": [
      "Enter a number: james\n",
      "Enter a number!!!\n",
      "finally\n",
      "Enter a number: lars\n",
      "Enter a number!!!\n",
      "finally\n",
      "Enter a number: 20\n",
      "OK\n",
      "finally\n"
     ]
    }
   ],
   "source": [
    "while True:\n",
    "    try:\n",
    "        a = int(input(\"Enter a number: \"))\n",
    "    except:\n",
    "        print(\"Enter a number!!!\")\n",
    "        continue\n",
    "    else:\n",
    "        print(\"OK\")\n",
    "        break\n",
    "    finally:\n",
    "        print(\"finally\")"
   ]
  },
  {
   "cell_type": "code",
   "execution_count": null,
   "id": "f8f18cbd",
   "metadata": {},
   "outputs": [],
   "source": []
  }
 ],
 "metadata": {
  "kernelspec": {
   "display_name": "Python 3",
   "language": "python",
   "name": "python3"
  },
  "language_info": {
   "codemirror_mode": {
    "name": "ipython",
    "version": 3
   },
   "file_extension": ".py",
   "mimetype": "text/x-python",
   "name": "python",
   "nbconvert_exporter": "python",
   "pygments_lexer": "ipython3",
   "version": "3.8.8"
  }
 },
 "nbformat": 4,
 "nbformat_minor": 5
}
