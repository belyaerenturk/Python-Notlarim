{
 "cells": [
  {
   "cell_type": "code",
   "execution_count": 1,
   "id": "987231c7",
   "metadata": {},
   "outputs": [
    {
     "name": "stdout",
     "output_type": "stream",
     "text": [
      "Writing mytest.txt\n"
     ]
    }
   ],
   "source": [
    "%%writefile mytest.txt\n",
    "test1\n",
    "test2\n",
    "test3"
   ]
  },
  {
   "cell_type": "code",
   "execution_count": 2,
   "id": "e03f5c94",
   "metadata": {},
   "outputs": [],
   "source": [
    "my_file = open(\"mytest.txt\")"
   ]
  },
  {
   "cell_type": "code",
   "execution_count": 3,
   "id": "e81bbf1d",
   "metadata": {},
   "outputs": [
    {
     "data": {
      "text/plain": [
       "'test1\\ntest2\\ntest3\\n'"
      ]
     },
     "execution_count": 3,
     "metadata": {},
     "output_type": "execute_result"
    }
   ],
   "source": [
    "my_file.read()"
   ]
  },
  {
   "cell_type": "code",
   "execution_count": 4,
   "id": "d89a5855",
   "metadata": {},
   "outputs": [
    {
     "data": {
      "text/plain": [
       "''"
      ]
     },
     "execution_count": 4,
     "metadata": {},
     "output_type": "execute_result"
    }
   ],
   "source": [
    "my_file.read()"
   ]
  },
  {
   "cell_type": "code",
   "execution_count": 5,
   "id": "3e2f9fa8",
   "metadata": {},
   "outputs": [
    {
     "data": {
      "text/plain": [
       "0"
      ]
     },
     "execution_count": 5,
     "metadata": {},
     "output_type": "execute_result"
    }
   ],
   "source": [
    "my_file.seek(0)"
   ]
  },
  {
   "cell_type": "code",
   "execution_count": 6,
   "id": "9afcfe24",
   "metadata": {},
   "outputs": [
    {
     "data": {
      "text/plain": [
       "'test1\\ntest2\\ntest3\\n'"
      ]
     },
     "execution_count": 6,
     "metadata": {},
     "output_type": "execute_result"
    }
   ],
   "source": [
    "my_file.read()"
   ]
  },
  {
   "cell_type": "code",
   "execution_count": 7,
   "id": "0a7218a2",
   "metadata": {},
   "outputs": [],
   "source": [
    "my_file.close()"
   ]
  },
  {
   "cell_type": "code",
   "execution_count": 8,
   "id": "8a655eb7",
   "metadata": {},
   "outputs": [],
   "source": [
    "with open(\"mytest.txt\") as my_file:\n",
    "    file_read = my_file.read()"
   ]
  },
  {
   "cell_type": "code",
   "execution_count": 9,
   "id": "c8376bf6",
   "metadata": {},
   "outputs": [
    {
     "data": {
      "text/plain": [
       "'test1\\ntest2\\ntest3\\n'"
      ]
     },
     "execution_count": 9,
     "metadata": {},
     "output_type": "execute_result"
    }
   ],
   "source": [
    "file_read"
   ]
  },
  {
   "cell_type": "code",
   "execution_count": 10,
   "id": "47f9edc5",
   "metadata": {},
   "outputs": [
    {
     "data": {
      "text/plain": [
       "'test1\\ntest2\\ntest3\\n'"
      ]
     },
     "execution_count": 10,
     "metadata": {},
     "output_type": "execute_result"
    }
   ],
   "source": [
    "file_read"
   ]
  },
  {
   "cell_type": "code",
   "execution_count": 14,
   "id": "f02e9f71",
   "metadata": {},
   "outputs": [],
   "source": [
    "with open(\"mytest.txt\", mode=\"w\") as my_file_new:\n",
    "    my_file_new.write(\"test4\")"
   ]
  },
  {
   "cell_type": "code",
   "execution_count": 13,
   "id": "c57bcdb7",
   "metadata": {},
   "outputs": [
    {
     "data": {
      "text/plain": [
       "'test1\\ntest2\\ntest3\\n'"
      ]
     },
     "execution_count": 13,
     "metadata": {},
     "output_type": "execute_result"
    }
   ],
   "source": [
    "my_file_new"
   ]
  },
  {
   "cell_type": "code",
   "execution_count": 15,
   "id": "471ed82b",
   "metadata": {},
   "outputs": [],
   "source": [
    "with open(\"mytest.txt\") as my_new_file_2:\n",
    "    read_file_2 = my_new_file_2.read()"
   ]
  },
  {
   "cell_type": "code",
   "execution_count": 17,
   "id": "26c98e12",
   "metadata": {},
   "outputs": [
    {
     "data": {
      "text/plain": [
       "'test4'"
      ]
     },
     "execution_count": 17,
     "metadata": {},
     "output_type": "execute_result"
    }
   ],
   "source": [
    "read_file_2"
   ]
  },
  {
   "cell_type": "code",
   "execution_count": 18,
   "id": "cad483d6",
   "metadata": {},
   "outputs": [],
   "source": [
    "with open(\"mytest.txt\", mode = \"a\") as my_new_file_3:\n",
    "    my_new_file_3.write(\" test 5\")"
   ]
  },
  {
   "cell_type": "code",
   "execution_count": 19,
   "id": "e7e7c03d",
   "metadata": {},
   "outputs": [],
   "source": [
    "with open(\"mytest.txt\", mode = \"r\") as my_new_file_4:\n",
    "    contents = my_new_file_4.read()"
   ]
  },
  {
   "cell_type": "code",
   "execution_count": 20,
   "id": "e212c813",
   "metadata": {},
   "outputs": [
    {
     "data": {
      "text/plain": [
       "'test4 test 5'"
      ]
     },
     "execution_count": 20,
     "metadata": {},
     "output_type": "execute_result"
    }
   ],
   "source": [
    "contents"
   ]
  },
  {
   "cell_type": "markdown",
   "id": "dc6d1ecd",
   "metadata": {},
   "source": [
    "# r = read, a = append, w = write"
   ]
  },
  {
   "cell_type": "code",
   "execution_count": null,
   "id": "a67c6087",
   "metadata": {},
   "outputs": [],
   "source": []
  }
 ],
 "metadata": {
  "kernelspec": {
   "display_name": "Python 3",
   "language": "python",
   "name": "python3"
  },
  "language_info": {
   "codemirror_mode": {
    "name": "ipython",
    "version": 3
   },
   "file_extension": ".py",
   "mimetype": "text/x-python",
   "name": "python",
   "nbconvert_exporter": "python",
   "pygments_lexer": "ipython3",
   "version": "3.8.8"
  }
 },
 "nbformat": 4,
 "nbformat_minor": 5
}
