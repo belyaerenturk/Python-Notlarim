{
 "cells": [
  {
   "cell_type": "code",
   "execution_count": 1,
   "id": "7df2fa11",
   "metadata": {},
   "outputs": [],
   "source": [
    "my_dictionary = {\"key\":\"value\"}"
   ]
  },
  {
   "cell_type": "code",
   "execution_count": 2,
   "id": "1a13f8ab",
   "metadata": {},
   "outputs": [
    {
     "data": {
      "text/plain": [
       "'value'"
      ]
     },
     "execution_count": 2,
     "metadata": {},
     "output_type": "execute_result"
    }
   ],
   "source": [
    "my_dictionary[\"key\"]"
   ]
  },
  {
   "cell_type": "code",
   "execution_count": 3,
   "id": "e62d333e",
   "metadata": {},
   "outputs": [],
   "source": [
    "my_list = [100, 200]"
   ]
  },
  {
   "cell_type": "code",
   "execution_count": 4,
   "id": "7b692d6a",
   "metadata": {},
   "outputs": [],
   "source": [
    "my_list_2 = [\"run\", \"swim\"]"
   ]
  },
  {
   "cell_type": "code",
   "execution_count": 5,
   "id": "220fe58a",
   "metadata": {},
   "outputs": [
    {
     "data": {
      "text/plain": [
       "100"
      ]
     },
     "execution_count": 5,
     "metadata": {},
     "output_type": "execute_result"
    }
   ],
   "source": [
    "my_list[0]"
   ]
  },
  {
   "cell_type": "code",
   "execution_count": 6,
   "id": "a08fbed7",
   "metadata": {},
   "outputs": [
    {
     "data": {
      "text/plain": [
       "'run'"
      ]
     },
     "execution_count": 6,
     "metadata": {},
     "output_type": "execute_result"
    }
   ],
   "source": [
    "my_list_2[0]"
   ]
  },
  {
   "cell_type": "code",
   "execution_count": 7,
   "id": "bf4f7067",
   "metadata": {},
   "outputs": [],
   "source": [
    "my_fitness_dictionary = {\"run\":100, \"swim\":200}"
   ]
  },
  {
   "cell_type": "code",
   "execution_count": 8,
   "id": "92de3fea",
   "metadata": {},
   "outputs": [
    {
     "data": {
      "text/plain": [
       "100"
      ]
     },
     "execution_count": 8,
     "metadata": {},
     "output_type": "execute_result"
    }
   ],
   "source": [
    "my_fitness_dictionary[\"run\"]"
   ]
  },
  {
   "cell_type": "code",
   "execution_count": 9,
   "id": "1669c6fb",
   "metadata": {},
   "outputs": [
    {
     "data": {
      "text/plain": [
       "200"
      ]
     },
     "execution_count": 9,
     "metadata": {},
     "output_type": "execute_result"
    }
   ],
   "source": [
    "my_fitness_dictionary[\"swim\"]"
   ]
  },
  {
   "cell_type": "code",
   "execution_count": 10,
   "id": "058a2e71",
   "metadata": {},
   "outputs": [],
   "source": [
    "my_dictionary_2 = {\"key1\":1, \"key2\":2, \"key3\":\"apple\"}"
   ]
  },
  {
   "cell_type": "code",
   "execution_count": 11,
   "id": "ff425292",
   "metadata": {},
   "outputs": [
    {
     "data": {
      "text/plain": [
       "1"
      ]
     },
     "execution_count": 11,
     "metadata": {},
     "output_type": "execute_result"
    }
   ],
   "source": [
    "my_dictionary_2[\"key1\"]"
   ]
  },
  {
   "cell_type": "code",
   "execution_count": 12,
   "id": "9b61d4ca",
   "metadata": {},
   "outputs": [
    {
     "data": {
      "text/plain": [
       "'apple'"
      ]
     },
     "execution_count": 12,
     "metadata": {},
     "output_type": "execute_result"
    }
   ],
   "source": [
    "my_dictionary_2[\"key3\"]"
   ]
  },
  {
   "cell_type": "code",
   "execution_count": 13,
   "id": "23d1d404",
   "metadata": {},
   "outputs": [],
   "source": [
    "my_dictionary_3 = {\"key1\":10, 20:30}"
   ]
  },
  {
   "cell_type": "code",
   "execution_count": 14,
   "id": "efbcbd46",
   "metadata": {},
   "outputs": [
    {
     "data": {
      "text/plain": [
       "10"
      ]
     },
     "execution_count": 14,
     "metadata": {},
     "output_type": "execute_result"
    }
   ],
   "source": [
    "my_dictionary_3[\"key1\"]"
   ]
  },
  {
   "cell_type": "code",
   "execution_count": 15,
   "id": "352fa0a2",
   "metadata": {},
   "outputs": [
    {
     "data": {
      "text/plain": [
       "30"
      ]
     },
     "execution_count": 15,
     "metadata": {},
     "output_type": "execute_result"
    }
   ],
   "source": [
    "my_dictionary_3[20]"
   ]
  },
  {
   "cell_type": "code",
   "execution_count": 17,
   "id": "e26724ba",
   "metadata": {},
   "outputs": [],
   "source": [
    "my_dictionary_4 = {\"key1\":100, \"key2\":[10,20,30], \"key3\":{\"a\":5}}"
   ]
  },
  {
   "cell_type": "code",
   "execution_count": 18,
   "id": "0f58f814",
   "metadata": {},
   "outputs": [
    {
     "data": {
      "text/plain": [
       "dict_keys(['key1', 'key2', 'key3'])"
      ]
     },
     "execution_count": 18,
     "metadata": {},
     "output_type": "execute_result"
    }
   ],
   "source": [
    "my_dictionary_4.keys()"
   ]
  },
  {
   "cell_type": "code",
   "execution_count": 19,
   "id": "128e7f38",
   "metadata": {},
   "outputs": [
    {
     "data": {
      "text/plain": [
       "5"
      ]
     },
     "execution_count": 19,
     "metadata": {},
     "output_type": "execute_result"
    }
   ],
   "source": [
    "my_dictionary_4[\"key3\"][\"a\"]"
   ]
  },
  {
   "cell_type": "code",
   "execution_count": 20,
   "id": "10b480f6",
   "metadata": {},
   "outputs": [],
   "source": [
    "my_dictionary_5 = {\"k1\":1, \"k2\":2}"
   ]
  },
  {
   "cell_type": "code",
   "execution_count": 21,
   "id": "11596c3f",
   "metadata": {},
   "outputs": [],
   "source": [
    "my_dictionary_5[\"k1\"] = 3"
   ]
  },
  {
   "cell_type": "code",
   "execution_count": 22,
   "id": "c0b165df",
   "metadata": {},
   "outputs": [
    {
     "data": {
      "text/plain": [
       "{'k1': 3, 'k2': 2}"
      ]
     },
     "execution_count": 22,
     "metadata": {},
     "output_type": "execute_result"
    }
   ],
   "source": [
    "my_dictionary_5"
   ]
  },
  {
   "cell_type": "code",
   "execution_count": 23,
   "id": "cebeb4bd",
   "metadata": {},
   "outputs": [],
   "source": [
    "my_dictionary_5[\"k3\"] = 7"
   ]
  },
  {
   "cell_type": "code",
   "execution_count": 24,
   "id": "212dd094",
   "metadata": {},
   "outputs": [
    {
     "data": {
      "text/plain": [
       "{'k1': 3, 'k2': 2, 'k3': 7}"
      ]
     },
     "execution_count": 24,
     "metadata": {},
     "output_type": "execute_result"
    }
   ],
   "source": [
    "my_dictionary_5"
   ]
  },
  {
   "cell_type": "code",
   "execution_count": null,
   "id": "f8a84c12",
   "metadata": {},
   "outputs": [],
   "source": []
  }
 ],
 "metadata": {
  "kernelspec": {
   "display_name": "Python 3",
   "language": "python",
   "name": "python3"
  },
  "language_info": {
   "codemirror_mode": {
    "name": "ipython",
    "version": 3
   },
   "file_extension": ".py",
   "mimetype": "text/x-python",
   "name": "python",
   "nbconvert_exporter": "python",
   "pygments_lexer": "ipython3",
   "version": "3.8.8"
  }
 },
 "nbformat": 4,
 "nbformat_minor": 5
}
