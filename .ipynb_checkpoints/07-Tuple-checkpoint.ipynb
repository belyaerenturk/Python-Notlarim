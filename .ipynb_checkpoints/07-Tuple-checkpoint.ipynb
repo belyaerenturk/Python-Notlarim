{
 "cells": [
  {
   "cell_type": "code",
   "execution_count": 1,
   "id": "a948b024",
   "metadata": {},
   "outputs": [],
   "source": [
    "my_list = [\"a\", 1, \"c\"]"
   ]
  },
  {
   "cell_type": "code",
   "execution_count": 3,
   "id": "53e953d4",
   "metadata": {},
   "outputs": [],
   "source": [
    "my_list[0] = \"b\""
   ]
  },
  {
   "cell_type": "code",
   "execution_count": 4,
   "id": "a67a47b0",
   "metadata": {},
   "outputs": [
    {
     "data": {
      "text/plain": [
       "['b', 1, 'c']"
      ]
     },
     "execution_count": 4,
     "metadata": {},
     "output_type": "execute_result"
    }
   ],
   "source": [
    "my_list"
   ]
  },
  {
   "cell_type": "code",
   "execution_count": 5,
   "id": "62f6b060",
   "metadata": {},
   "outputs": [],
   "source": [
    "my_tuple = (\"a\", 1, \"c\")"
   ]
  },
  {
   "cell_type": "code",
   "execution_count": 6,
   "id": "00458bf7",
   "metadata": {},
   "outputs": [
    {
     "data": {
      "text/plain": [
       "'a'"
      ]
     },
     "execution_count": 6,
     "metadata": {},
     "output_type": "execute_result"
    }
   ],
   "source": [
    "my_tuple[0]"
   ]
  },
  {
   "cell_type": "code",
   "execution_count": 8,
   "id": "58b834a5",
   "metadata": {},
   "outputs": [],
   "source": [
    "#my_tuple[0] = \"b\""
   ]
  },
  {
   "cell_type": "markdown",
   "id": "8a1d881a",
   "metadata": {},
   "source": [
    "## Immutable"
   ]
  },
  {
   "cell_type": "code",
   "execution_count": 9,
   "id": "94b024b4",
   "metadata": {},
   "outputs": [],
   "source": [
    "#my_tuple[1] = 2"
   ]
  },
  {
   "cell_type": "code",
   "execution_count": 10,
   "id": "b554f946",
   "metadata": {},
   "outputs": [
    {
     "data": {
      "text/plain": [
       "1"
      ]
     },
     "execution_count": 10,
     "metadata": {},
     "output_type": "execute_result"
    }
   ],
   "source": [
    "my_tuple.count(\"a\")"
   ]
  },
  {
   "cell_type": "code",
   "execution_count": 11,
   "id": "a1dc4cd3",
   "metadata": {},
   "outputs": [],
   "source": [
    "my_tuple_2 = (1, 1, 1, \"a\", \"c\")"
   ]
  },
  {
   "cell_type": "code",
   "execution_count": 12,
   "id": "9b8c5e3b",
   "metadata": {},
   "outputs": [
    {
     "data": {
      "text/plain": [
       "3"
      ]
     },
     "execution_count": 12,
     "metadata": {},
     "output_type": "execute_result"
    }
   ],
   "source": [
    "my_tuple_2.count(1)"
   ]
  },
  {
   "cell_type": "code",
   "execution_count": 16,
   "id": "db51c128",
   "metadata": {},
   "outputs": [
    {
     "data": {
      "text/plain": [
       "4"
      ]
     },
     "execution_count": 16,
     "metadata": {},
     "output_type": "execute_result"
    }
   ],
   "source": [
    "my_tuple_2.index(\"c\")"
   ]
  },
  {
   "cell_type": "code",
   "execution_count": null,
   "id": "278493ee",
   "metadata": {},
   "outputs": [],
   "source": []
  }
 ],
 "metadata": {
  "kernelspec": {
   "display_name": "Python 3",
   "language": "python",
   "name": "python3"
  },
  "language_info": {
   "codemirror_mode": {
    "name": "ipython",
    "version": 3
   },
   "file_extension": ".py",
   "mimetype": "text/x-python",
   "name": "python",
   "nbconvert_exporter": "python",
   "pygments_lexer": "ipython3",
   "version": "3.8.8"
  }
 },
 "nbformat": 4,
 "nbformat_minor": 5
}
