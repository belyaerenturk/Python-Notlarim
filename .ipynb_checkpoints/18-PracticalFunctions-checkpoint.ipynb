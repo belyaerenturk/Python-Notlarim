{
 "cells": [
  {
   "cell_type": "code",
   "execution_count": 1,
   "id": "b25dd178",
   "metadata": {},
   "outputs": [],
   "source": [
    "def divide(number):\n",
    "    return number / 2"
   ]
  },
  {
   "cell_type": "code",
   "execution_count": 3,
   "id": "041101a6",
   "metadata": {},
   "outputs": [],
   "source": [
    "my_list = [1, 2, 3, 4, 5, 6, 7, 8]"
   ]
  },
  {
   "cell_type": "code",
   "execution_count": 10,
   "id": "c2a289f5",
   "metadata": {},
   "outputs": [
    {
     "name": "stdout",
     "output_type": "stream",
     "text": [
      "[0.5, 1.0, 1.5, 2.0, 2.5, 3.0, 3.5, 4.0]\n"
     ]
    }
   ],
   "source": [
    "my_new_list = []\n",
    "for num in my_list:\n",
    "    my_new_list.append(divide(num))\n",
    "print(my_new_list)"
   ]
  },
  {
   "cell_type": "markdown",
   "id": "f9c393a1",
   "metadata": {},
   "source": [
    "## map"
   ]
  },
  {
   "cell_type": "code",
   "execution_count": 6,
   "id": "e8eea5cd",
   "metadata": {},
   "outputs": [
    {
     "data": {
      "text/plain": [
       "[0.5, 1.0, 1.5, 2.0, 2.5, 3.0, 3.5, 4.0]"
      ]
     },
     "execution_count": 6,
     "metadata": {},
     "output_type": "execute_result"
    }
   ],
   "source": [
    "list(map(divide, my_list))"
   ]
  },
  {
   "cell_type": "code",
   "execution_count": 14,
   "id": "ccb73a52",
   "metadata": {},
   "outputs": [],
   "source": [
    "def control_string(string):\n",
    "    return \"Metallica\" in string"
   ]
  },
  {
   "cell_type": "code",
   "execution_count": 16,
   "id": "c2d48f82",
   "metadata": {},
   "outputs": [
    {
     "data": {
      "text/plain": [
       "True"
      ]
     },
     "execution_count": 16,
     "metadata": {},
     "output_type": "execute_result"
    }
   ],
   "source": [
    "control_string(\"Metallica asdnajsd\")"
   ]
  },
  {
   "cell_type": "code",
   "execution_count": 20,
   "id": "b0bf2fdd",
   "metadata": {},
   "outputs": [],
   "source": [
    "my_artist_list = [\"Metallica\", \"Madonna\", \"Queen\", \"Megadeth\", \"Muslum\", \"Metallica2\"]"
   ]
  },
  {
   "cell_type": "code",
   "execution_count": 21,
   "id": "248de2ad",
   "metadata": {},
   "outputs": [
    {
     "data": {
      "text/plain": [
       "[True, False, False, False, False, True]"
      ]
     },
     "execution_count": 21,
     "metadata": {},
     "output_type": "execute_result"
    }
   ],
   "source": [
    "list(map(control_string, my_artist_list))"
   ]
  },
  {
   "cell_type": "markdown",
   "id": "a758ca9f",
   "metadata": {},
   "source": [
    "## filter"
   ]
  },
  {
   "cell_type": "code",
   "execution_count": 22,
   "id": "2826d3c5",
   "metadata": {},
   "outputs": [
    {
     "data": {
      "text/plain": [
       "['Metallica', 'Metallica2']"
      ]
     },
     "execution_count": 22,
     "metadata": {},
     "output_type": "execute_result"
    }
   ],
   "source": [
    "list(filter(control_string, my_artist_list))"
   ]
  },
  {
   "cell_type": "markdown",
   "id": "4f5cbeb2",
   "metadata": {},
   "source": [
    "## lambda"
   ]
  },
  {
   "cell_type": "code",
   "execution_count": 27,
   "id": "72a44113",
   "metadata": {},
   "outputs": [
    {
     "data": {
      "text/plain": [
       "<function __main__.<lambda>(number)>"
      ]
     },
     "execution_count": 27,
     "metadata": {},
     "output_type": "execute_result"
    }
   ],
   "source": [
    "multiply = lambda number:number * 3"
   ]
  },
  {
   "cell_type": "code",
   "execution_count": 29,
   "id": "9c965aea",
   "metadata": {},
   "outputs": [
    {
     "data": {
      "text/plain": [
       "15"
      ]
     },
     "execution_count": 29,
     "metadata": {},
     "output_type": "execute_result"
    }
   ],
   "source": [
    "multiply(5)"
   ]
  },
  {
   "cell_type": "code",
   "execution_count": 30,
   "id": "9fede675",
   "metadata": {},
   "outputs": [],
   "source": [
    "my_list_2 = [3, 5, 7, 9]"
   ]
  },
  {
   "cell_type": "code",
   "execution_count": 31,
   "id": "c655a866",
   "metadata": {},
   "outputs": [
    {
     "data": {
      "text/plain": [
       "[12, 20, 28, 36]"
      ]
     },
     "execution_count": 31,
     "metadata": {},
     "output_type": "execute_result"
    }
   ],
   "source": [
    "list(map(lambda num:num * 4, my_list_2))"
   ]
  },
  {
   "cell_type": "code",
   "execution_count": null,
   "id": "6890e8c2",
   "metadata": {},
   "outputs": [],
   "source": []
  }
 ],
 "metadata": {
  "kernelspec": {
   "display_name": "Python 3",
   "language": "python",
   "name": "python3"
  },
  "language_info": {
   "codemirror_mode": {
    "name": "ipython",
    "version": 3
   },
   "file_extension": ".py",
   "mimetype": "text/x-python",
   "name": "python",
   "nbconvert_exporter": "python",
   "pygments_lexer": "ipython3",
   "version": "3.8.8"
  }
 },
 "nbformat": 4,
 "nbformat_minor": 5
}
