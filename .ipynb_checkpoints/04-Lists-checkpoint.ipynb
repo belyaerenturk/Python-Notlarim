{
 "cells": [
  {
   "cell_type": "code",
   "execution_count": 1,
   "id": "e82b664b",
   "metadata": {},
   "outputs": [],
   "source": [
    "my_string = \"Belya\""
   ]
  },
  {
   "cell_type": "code",
   "execution_count": 2,
   "id": "f65daee4",
   "metadata": {},
   "outputs": [
    {
     "data": {
      "text/plain": [
       "'B'"
      ]
     },
     "execution_count": 2,
     "metadata": {},
     "output_type": "execute_result"
    }
   ],
   "source": [
    "my_string[0]"
   ]
  },
  {
   "cell_type": "code",
   "execution_count": 3,
   "id": "88dc7a68",
   "metadata": {},
   "outputs": [
    {
     "data": {
      "text/plain": [
       "'e'"
      ]
     },
     "execution_count": 3,
     "metadata": {},
     "output_type": "execute_result"
    }
   ],
   "source": [
    "my_string[1]"
   ]
  },
  {
   "cell_type": "code",
   "execution_count": 7,
   "id": "ca3aae1c",
   "metadata": {},
   "outputs": [],
   "source": [
    "#my_string[0] = \"A\""
   ]
  },
  {
   "cell_type": "markdown",
   "id": "aba1e51a",
   "metadata": {},
   "source": [
    "## immutability"
   ]
  },
  {
   "cell_type": "code",
   "execution_count": 6,
   "id": "ead248cb",
   "metadata": {},
   "outputs": [],
   "source": [
    "#my_string[2] = \"G\""
   ]
  },
  {
   "cell_type": "code",
   "execution_count": 8,
   "id": "aecb4115",
   "metadata": {},
   "outputs": [],
   "source": [
    "my_list = [1,2,3]"
   ]
  },
  {
   "cell_type": "code",
   "execution_count": 9,
   "id": "87801097",
   "metadata": {},
   "outputs": [
    {
     "data": {
      "text/plain": [
       "1"
      ]
     },
     "execution_count": 9,
     "metadata": {},
     "output_type": "execute_result"
    }
   ],
   "source": [
    "my_list[0]"
   ]
  },
  {
   "cell_type": "code",
   "execution_count": 10,
   "id": "e2bcbcdb",
   "metadata": {},
   "outputs": [
    {
     "data": {
      "text/plain": [
       "[1, 2, 3]"
      ]
     },
     "execution_count": 10,
     "metadata": {},
     "output_type": "execute_result"
    }
   ],
   "source": [
    "my_list"
   ]
  },
  {
   "cell_type": "code",
   "execution_count": 11,
   "id": "b4debdf3",
   "metadata": {},
   "outputs": [],
   "source": [
    "my_list[0] = 5"
   ]
  },
  {
   "cell_type": "code",
   "execution_count": 12,
   "id": "18859b33",
   "metadata": {},
   "outputs": [
    {
     "data": {
      "text/plain": [
       "[5, 2, 3]"
      ]
     },
     "execution_count": 12,
     "metadata": {},
     "output_type": "execute_result"
    }
   ],
   "source": [
    "my_list"
   ]
  },
  {
   "cell_type": "markdown",
   "id": "06c808a1",
   "metadata": {},
   "source": [
    "## mutable"
   ]
  },
  {
   "cell_type": "code",
   "execution_count": 13,
   "id": "7ca2cfe2",
   "metadata": {},
   "outputs": [],
   "source": [
    "my_list[2] = 6"
   ]
  },
  {
   "cell_type": "code",
   "execution_count": 14,
   "id": "f8fc6668",
   "metadata": {},
   "outputs": [
    {
     "data": {
      "text/plain": [
       "[5, 2, 6]"
      ]
     },
     "execution_count": 14,
     "metadata": {},
     "output_type": "execute_result"
    }
   ],
   "source": [
    "my_list"
   ]
  },
  {
   "cell_type": "code",
   "execution_count": 15,
   "id": "84f4cca6",
   "metadata": {},
   "outputs": [],
   "source": [
    "my_list.append(7)"
   ]
  },
  {
   "cell_type": "code",
   "execution_count": 16,
   "id": "d534a8e2",
   "metadata": {},
   "outputs": [
    {
     "data": {
      "text/plain": [
       "[5, 2, 6, 7]"
      ]
     },
     "execution_count": 16,
     "metadata": {},
     "output_type": "execute_result"
    }
   ],
   "source": [
    "my_list"
   ]
  },
  {
   "cell_type": "code",
   "execution_count": 17,
   "id": "623ca79c",
   "metadata": {},
   "outputs": [
    {
     "data": {
      "text/plain": [
       "7"
      ]
     },
     "execution_count": 17,
     "metadata": {},
     "output_type": "execute_result"
    }
   ],
   "source": [
    "my_list.pop()"
   ]
  },
  {
   "cell_type": "code",
   "execution_count": 18,
   "id": "a79d8b6b",
   "metadata": {},
   "outputs": [],
   "source": [
    "my_mixed_list = [1,2,\"a\",\"bhf\"]"
   ]
  },
  {
   "cell_type": "code",
   "execution_count": 19,
   "id": "96c7c8a8",
   "metadata": {},
   "outputs": [
    {
     "data": {
      "text/plain": [
       "1"
      ]
     },
     "execution_count": 19,
     "metadata": {},
     "output_type": "execute_result"
    }
   ],
   "source": [
    "my_mixed_list[0]"
   ]
  },
  {
   "cell_type": "code",
   "execution_count": 20,
   "id": "82da47fc",
   "metadata": {},
   "outputs": [
    {
     "data": {
      "text/plain": [
       "'a'"
      ]
     },
     "execution_count": 20,
     "metadata": {},
     "output_type": "execute_result"
    }
   ],
   "source": [
    "my_mixed_list[2]"
   ]
  },
  {
   "cell_type": "code",
   "execution_count": 21,
   "id": "dcca32fa",
   "metadata": {},
   "outputs": [
    {
     "data": {
      "text/plain": [
       "'bhf'"
      ]
     },
     "execution_count": 21,
     "metadata": {},
     "output_type": "execute_result"
    }
   ],
   "source": [
    "my_mixed_list[-1]"
   ]
  },
  {
   "cell_type": "code",
   "execution_count": 22,
   "id": "0058c5ce",
   "metadata": {},
   "outputs": [],
   "source": [
    "my_list_1 = [\"a\", \"b\", \"c\"]"
   ]
  },
  {
   "cell_type": "code",
   "execution_count": 23,
   "id": "b1c647c2",
   "metadata": {},
   "outputs": [],
   "source": [
    "my_list_2 = [\"d\", \"e\", \"f\"]"
   ]
  },
  {
   "cell_type": "code",
   "execution_count": 24,
   "id": "ad256967",
   "metadata": {},
   "outputs": [],
   "source": [
    "my_list_3 = my_list_1 + my_list_2"
   ]
  },
  {
   "cell_type": "code",
   "execution_count": 25,
   "id": "4c784410",
   "metadata": {},
   "outputs": [
    {
     "data": {
      "text/plain": [
       "['a', 'b', 'c', 'd', 'e', 'f']"
      ]
     },
     "execution_count": 25,
     "metadata": {},
     "output_type": "execute_result"
    }
   ],
   "source": [
    "my_list_3"
   ]
  },
  {
   "cell_type": "code",
   "execution_count": 26,
   "id": "d6cb83cc",
   "metadata": {},
   "outputs": [
    {
     "data": {
      "text/plain": [
       "['a', 'b', 'c', 'a', 'b', 'c', 'a', 'b', 'c']"
      ]
     },
     "execution_count": 26,
     "metadata": {},
     "output_type": "execute_result"
    }
   ],
   "source": [
    "my_list_1 * 3"
   ]
  },
  {
   "cell_type": "code",
   "execution_count": 27,
   "id": "db31acfb",
   "metadata": {},
   "outputs": [
    {
     "ename": "TypeError",
     "evalue": "can only concatenate list (not \"int\") to list",
     "output_type": "error",
     "traceback": [
      "\u001b[1;31m---------------------------------------------------------------------------\u001b[0m",
      "\u001b[1;31mTypeError\u001b[0m                                 Traceback (most recent call last)",
      "\u001b[1;32m<ipython-input-27-2612e4c4fe90>\u001b[0m in \u001b[0;36m<module>\u001b[1;34m\u001b[0m\n\u001b[1;32m----> 1\u001b[1;33m \u001b[0mmy_list_1\u001b[0m \u001b[1;33m+\u001b[0m \u001b[1;36m5\u001b[0m\u001b[1;33m\u001b[0m\u001b[1;33m\u001b[0m\u001b[0m\n\u001b[0m",
      "\u001b[1;31mTypeError\u001b[0m: can only concatenate list (not \"int\") to list"
     ]
    }
   ],
   "source": [
    "my_list_1 + 5"
   ]
  },
  {
   "cell_type": "code",
   "execution_count": 28,
   "id": "87159c85",
   "metadata": {},
   "outputs": [],
   "source": [
    "my_list_1.reverse()"
   ]
  },
  {
   "cell_type": "code",
   "execution_count": 29,
   "id": "cdaba639",
   "metadata": {},
   "outputs": [
    {
     "data": {
      "text/plain": [
       "['c', 'b', 'a']"
      ]
     },
     "execution_count": 29,
     "metadata": {},
     "output_type": "execute_result"
    }
   ],
   "source": [
    "my_list_1"
   ]
  },
  {
   "cell_type": "markdown",
   "id": "c55d39c7",
   "metadata": {},
   "source": [
    "## nested list"
   ]
  },
  {
   "cell_type": "code",
   "execution_count": 30,
   "id": "b4ff31b7",
   "metadata": {},
   "outputs": [],
   "source": [
    "new_list = [1,4,\"a\"]"
   ]
  },
  {
   "cell_type": "code",
   "execution_count": 31,
   "id": "c6b7c86c",
   "metadata": {},
   "outputs": [],
   "source": [
    "new_list = [1, 4, \"a\", [3, \"c\"]]"
   ]
  },
  {
   "cell_type": "code",
   "execution_count": 32,
   "id": "ac860a00",
   "metadata": {},
   "outputs": [
    {
     "data": {
      "text/plain": [
       "'a'"
      ]
     },
     "execution_count": 32,
     "metadata": {},
     "output_type": "execute_result"
    }
   ],
   "source": [
    "new_list[2]"
   ]
  },
  {
   "cell_type": "code",
   "execution_count": 33,
   "id": "8b5c07f8",
   "metadata": {},
   "outputs": [
    {
     "data": {
      "text/plain": [
       "[3, 'c']"
      ]
     },
     "execution_count": 33,
     "metadata": {},
     "output_type": "execute_result"
    }
   ],
   "source": [
    "new_list[3]"
   ]
  },
  {
   "cell_type": "code",
   "execution_count": 34,
   "id": "17e2949c",
   "metadata": {},
   "outputs": [],
   "source": [
    "nested_list = new_list[3]"
   ]
  },
  {
   "cell_type": "code",
   "execution_count": 35,
   "id": "810a6b67",
   "metadata": {},
   "outputs": [
    {
     "data": {
      "text/plain": [
       "[3, 'c']"
      ]
     },
     "execution_count": 35,
     "metadata": {},
     "output_type": "execute_result"
    }
   ],
   "source": [
    "nested_list"
   ]
  },
  {
   "cell_type": "code",
   "execution_count": 36,
   "id": "11f4011a",
   "metadata": {},
   "outputs": [
    {
     "data": {
      "text/plain": [
       "'c'"
      ]
     },
     "execution_count": 36,
     "metadata": {},
     "output_type": "execute_result"
    }
   ],
   "source": [
    "nested_list[1]"
   ]
  },
  {
   "cell_type": "code",
   "execution_count": 37,
   "id": "6f9d83cf",
   "metadata": {},
   "outputs": [
    {
     "data": {
      "text/plain": [
       "'c'"
      ]
     },
     "execution_count": 37,
     "metadata": {},
     "output_type": "execute_result"
    }
   ],
   "source": [
    "new_list[3][1]"
   ]
  },
  {
   "cell_type": "code",
   "execution_count": 39,
   "id": "e59ddd14",
   "metadata": {},
   "outputs": [
    {
     "data": {
      "text/plain": [
       "3"
      ]
     },
     "execution_count": 39,
     "metadata": {},
     "output_type": "execute_result"
    }
   ],
   "source": [
    "new_list[3][0]"
   ]
  },
  {
   "cell_type": "code",
   "execution_count": 40,
   "id": "2fee376b",
   "metadata": {},
   "outputs": [
    {
     "data": {
      "text/plain": [
       "['a', [3, 'c']]"
      ]
     },
     "execution_count": 40,
     "metadata": {},
     "output_type": "execute_result"
    }
   ],
   "source": [
    "new_list[2:]"
   ]
  },
  {
   "cell_type": "code",
   "execution_count": 41,
   "id": "f9e67c4a",
   "metadata": {},
   "outputs": [
    {
     "data": {
      "text/plain": [
       "[1, 4]"
      ]
     },
     "execution_count": 41,
     "metadata": {},
     "output_type": "execute_result"
    }
   ],
   "source": [
    "new_list[:2]"
   ]
  },
  {
   "cell_type": "code",
   "execution_count": null,
   "id": "019dbee7",
   "metadata": {},
   "outputs": [],
   "source": []
  }
 ],
 "metadata": {
  "kernelspec": {
   "display_name": "Python 3",
   "language": "python",
   "name": "python3"
  },
  "language_info": {
   "codemirror_mode": {
    "name": "ipython",
    "version": 3
   },
   "file_extension": ".py",
   "mimetype": "text/x-python",
   "name": "python",
   "nbconvert_exporter": "python",
   "pygments_lexer": "ipython3",
   "version": "3.8.8"
  }
 },
 "nbformat": 4,
 "nbformat_minor": 5
}
