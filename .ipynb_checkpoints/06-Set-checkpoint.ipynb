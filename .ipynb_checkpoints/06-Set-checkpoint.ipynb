{
 "cells": [
  {
   "cell_type": "code",
   "execution_count": 1,
   "id": "db506f06",
   "metadata": {},
   "outputs": [],
   "source": [
    "my_list = [1, 2, 3, 1]"
   ]
  },
  {
   "cell_type": "code",
   "execution_count": 2,
   "id": "5a580438",
   "metadata": {},
   "outputs": [
    {
     "data": {
      "text/plain": [
       "[1, 2, 3, 1]"
      ]
     },
     "execution_count": 2,
     "metadata": {},
     "output_type": "execute_result"
    }
   ],
   "source": [
    "my_list"
   ]
  },
  {
   "cell_type": "markdown",
   "id": "5077500a",
   "metadata": {},
   "source": [
    "## casting"
   ]
  },
  {
   "cell_type": "code",
   "execution_count": 3,
   "id": "f7ae33bd",
   "metadata": {},
   "outputs": [],
   "source": [
    "my_set = set(my_list)"
   ]
  },
  {
   "cell_type": "code",
   "execution_count": 4,
   "id": "eb7b96d2",
   "metadata": {},
   "outputs": [
    {
     "data": {
      "text/plain": [
       "{1, 2, 3}"
      ]
     },
     "execution_count": 4,
     "metadata": {},
     "output_type": "execute_result"
    }
   ],
   "source": [
    "my_set"
   ]
  },
  {
   "cell_type": "code",
   "execution_count": 5,
   "id": "02ff054f",
   "metadata": {},
   "outputs": [],
   "source": [
    "my_set_2 = {1, 2, 3, 1}"
   ]
  },
  {
   "cell_type": "code",
   "execution_count": 6,
   "id": "0cbdab14",
   "metadata": {},
   "outputs": [
    {
     "data": {
      "text/plain": [
       "{1, 2, 3}"
      ]
     },
     "execution_count": 6,
     "metadata": {},
     "output_type": "execute_result"
    }
   ],
   "source": [
    "my_set_2"
   ]
  },
  {
   "cell_type": "code",
   "execution_count": 7,
   "id": "34346e8e",
   "metadata": {},
   "outputs": [
    {
     "data": {
      "text/plain": [
       "set"
      ]
     },
     "execution_count": 7,
     "metadata": {},
     "output_type": "execute_result"
    }
   ],
   "source": [
    "type(my_set_2)"
   ]
  },
  {
   "cell_type": "code",
   "execution_count": 8,
   "id": "5e501740",
   "metadata": {},
   "outputs": [],
   "source": [
    "my_set_3 = {\"a\", \"b\", \"a\"}"
   ]
  },
  {
   "cell_type": "code",
   "execution_count": 9,
   "id": "60df6b52",
   "metadata": {},
   "outputs": [
    {
     "data": {
      "text/plain": [
       "{'a', 'b'}"
      ]
     },
     "execution_count": 9,
     "metadata": {},
     "output_type": "execute_result"
    }
   ],
   "source": [
    "my_set_3"
   ]
  },
  {
   "cell_type": "code",
   "execution_count": 10,
   "id": "6046718c",
   "metadata": {},
   "outputs": [],
   "source": [
    "my_list = []"
   ]
  },
  {
   "cell_type": "code",
   "execution_count": 11,
   "id": "b8c0cf2c",
   "metadata": {},
   "outputs": [
    {
     "data": {
      "text/plain": [
       "list"
      ]
     },
     "execution_count": 11,
     "metadata": {},
     "output_type": "execute_result"
    }
   ],
   "source": [
    "type(my_list)"
   ]
  },
  {
   "cell_type": "code",
   "execution_count": 12,
   "id": "b68608c5",
   "metadata": {},
   "outputs": [
    {
     "data": {
      "text/plain": [
       "[]"
      ]
     },
     "execution_count": 12,
     "metadata": {},
     "output_type": "execute_result"
    }
   ],
   "source": [
    "my_list"
   ]
  },
  {
   "cell_type": "code",
   "execution_count": 13,
   "id": "2465dcaf",
   "metadata": {},
   "outputs": [],
   "source": [
    "my_list.append(1)"
   ]
  },
  {
   "cell_type": "code",
   "execution_count": 14,
   "id": "3dccbb6f",
   "metadata": {},
   "outputs": [
    {
     "data": {
      "text/plain": [
       "[1]"
      ]
     },
     "execution_count": 14,
     "metadata": {},
     "output_type": "execute_result"
    }
   ],
   "source": [
    "my_list"
   ]
  },
  {
   "cell_type": "code",
   "execution_count": 15,
   "id": "0321eeb0",
   "metadata": {},
   "outputs": [],
   "source": [
    "my_set_4 = {}"
   ]
  },
  {
   "cell_type": "code",
   "execution_count": 16,
   "id": "a6a08d07",
   "metadata": {},
   "outputs": [
    {
     "data": {
      "text/plain": [
       "{}"
      ]
     },
     "execution_count": 16,
     "metadata": {},
     "output_type": "execute_result"
    }
   ],
   "source": [
    "my_set_4"
   ]
  },
  {
   "cell_type": "code",
   "execution_count": 17,
   "id": "19960d76",
   "metadata": {},
   "outputs": [
    {
     "data": {
      "text/plain": [
       "dict"
      ]
     },
     "execution_count": 17,
     "metadata": {},
     "output_type": "execute_result"
    }
   ],
   "source": [
    "type(my_set_4)"
   ]
  },
  {
   "cell_type": "code",
   "execution_count": 18,
   "id": "98ce88e1",
   "metadata": {},
   "outputs": [],
   "source": [
    "my_set_4[\"key1\"] = 1"
   ]
  },
  {
   "cell_type": "code",
   "execution_count": 19,
   "id": "06837cba",
   "metadata": {},
   "outputs": [
    {
     "data": {
      "text/plain": [
       "{'key1': 1}"
      ]
     },
     "execution_count": 19,
     "metadata": {},
     "output_type": "execute_result"
    }
   ],
   "source": [
    "my_set_4"
   ]
  },
  {
   "cell_type": "code",
   "execution_count": 20,
   "id": "f596b00b",
   "metadata": {},
   "outputs": [],
   "source": [
    "my_set_5 = set()"
   ]
  },
  {
   "cell_type": "code",
   "execution_count": 21,
   "id": "76a5f7d5",
   "metadata": {},
   "outputs": [],
   "source": [
    "my_set_5.add(1)"
   ]
  },
  {
   "cell_type": "code",
   "execution_count": 22,
   "id": "2ec7a20c",
   "metadata": {},
   "outputs": [],
   "source": [
    "my_set_5.add(2)"
   ]
  },
  {
   "cell_type": "code",
   "execution_count": 23,
   "id": "f5eb2136",
   "metadata": {},
   "outputs": [
    {
     "data": {
      "text/plain": [
       "{1, 2}"
      ]
     },
     "execution_count": 23,
     "metadata": {},
     "output_type": "execute_result"
    }
   ],
   "source": [
    "my_set_5"
   ]
  },
  {
   "cell_type": "code",
   "execution_count": 24,
   "id": "20fe0e77",
   "metadata": {},
   "outputs": [],
   "source": [
    "my_set_5.add(2)"
   ]
  },
  {
   "cell_type": "code",
   "execution_count": 25,
   "id": "a120418e",
   "metadata": {},
   "outputs": [
    {
     "data": {
      "text/plain": [
       "{1, 2}"
      ]
     },
     "execution_count": 25,
     "metadata": {},
     "output_type": "execute_result"
    }
   ],
   "source": [
    "my_set_5"
   ]
  },
  {
   "cell_type": "code",
   "execution_count": 26,
   "id": "dd789b40",
   "metadata": {},
   "outputs": [
    {
     "data": {
      "text/plain": [
       "set"
      ]
     },
     "execution_count": 26,
     "metadata": {},
     "output_type": "execute_result"
    }
   ],
   "source": [
    "type(my_set_5)"
   ]
  },
  {
   "cell_type": "code",
   "execution_count": 27,
   "id": "1e0334b7",
   "metadata": {},
   "outputs": [],
   "source": [
    "my_list_2 = list()"
   ]
  },
  {
   "cell_type": "code",
   "execution_count": 28,
   "id": "ae861a50",
   "metadata": {},
   "outputs": [
    {
     "data": {
      "text/plain": [
       "list"
      ]
     },
     "execution_count": 28,
     "metadata": {},
     "output_type": "execute_result"
    }
   ],
   "source": [
    "type(my_list_2)"
   ]
  },
  {
   "cell_type": "code",
   "execution_count": 29,
   "id": "0e72223f",
   "metadata": {},
   "outputs": [
    {
     "data": {
      "text/plain": [
       "[]"
      ]
     },
     "execution_count": 29,
     "metadata": {},
     "output_type": "execute_result"
    }
   ],
   "source": [
    "my_list_2"
   ]
  },
  {
   "cell_type": "code",
   "execution_count": 30,
   "id": "d2a4c925",
   "metadata": {},
   "outputs": [],
   "source": [
    "my_list_2.append(\"a\")"
   ]
  },
  {
   "cell_type": "code",
   "execution_count": 31,
   "id": "ff23b55d",
   "metadata": {},
   "outputs": [],
   "source": [
    "my_list_2.append(2)"
   ]
  },
  {
   "cell_type": "code",
   "execution_count": 32,
   "id": "af6d9f95",
   "metadata": {},
   "outputs": [],
   "source": [
    "my_list_2.append([1, 2])"
   ]
  },
  {
   "cell_type": "code",
   "execution_count": 33,
   "id": "e85d83ba",
   "metadata": {},
   "outputs": [
    {
     "data": {
      "text/plain": [
       "['a', 2, [1, 2]]"
      ]
     },
     "execution_count": 33,
     "metadata": {},
     "output_type": "execute_result"
    }
   ],
   "source": [
    "my_list_2"
   ]
  },
  {
   "cell_type": "code",
   "execution_count": null,
   "id": "d2ac860c",
   "metadata": {},
   "outputs": [],
   "source": []
  }
 ],
 "metadata": {
  "kernelspec": {
   "display_name": "Python 3",
   "language": "python",
   "name": "python3"
  },
  "language_info": {
   "codemirror_mode": {
    "name": "ipython",
    "version": 3
   },
   "file_extension": ".py",
   "mimetype": "text/x-python",
   "name": "python",
   "nbconvert_exporter": "python",
   "pygments_lexer": "ipython3",
   "version": "3.8.8"
  }
 },
 "nbformat": 4,
 "nbformat_minor": 5
}
