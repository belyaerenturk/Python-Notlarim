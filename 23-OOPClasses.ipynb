{
 "cells": [
  {
   "cell_type": "markdown",
   "id": "909930c7",
   "metadata": {},
   "source": [
    "## class"
   ]
  },
  {
   "cell_type": "code",
   "execution_count": 18,
   "id": "f77cf60d",
   "metadata": {},
   "outputs": [],
   "source": [
    "my_list = list()"
   ]
  },
  {
   "cell_type": "markdown",
   "id": "90171ceb",
   "metadata": {},
   "source": [
    "## instance & attribute"
   ]
  },
  {
   "cell_type": "code",
   "execution_count": 19,
   "id": "5830c76f",
   "metadata": {},
   "outputs": [],
   "source": [
    "# snake = my_string\n",
    "# camel calse = myString"
   ]
  },
  {
   "cell_type": "code",
   "execution_count": 89,
   "id": "7b193c70",
   "metadata": {},
   "outputs": [],
   "source": [
    "class Musician():\n",
    "    \n",
    "    job = \"musician\"\n",
    "    \n",
    "    def __init__(self,name,age,instrument):\n",
    "        self.name = name\n",
    "        self.age = age\n",
    "        self.instrument = instrument\n",
    "        \n",
    "    # Method\n",
    "        \n",
    "    def sing(self):\n",
    "        print(f\"We are the champions! {self.instrument}\")"
   ]
  },
  {
   "cell_type": "code",
   "execution_count": 90,
   "id": "91c88305",
   "metadata": {},
   "outputs": [],
   "source": [
    "my_musician = Musician(\"James\", 50, \"Guitar\")"
   ]
  },
  {
   "cell_type": "code",
   "execution_count": 91,
   "id": "9b8895f3",
   "metadata": {},
   "outputs": [
    {
     "data": {
      "text/plain": [
       "50"
      ]
     },
     "execution_count": 91,
     "metadata": {},
     "output_type": "execute_result"
    }
   ],
   "source": [
    "my_musician.age"
   ]
  },
  {
   "cell_type": "code",
   "execution_count": 92,
   "id": "e731b677",
   "metadata": {},
   "outputs": [
    {
     "data": {
      "text/plain": [
       "'James'"
      ]
     },
     "execution_count": 92,
     "metadata": {},
     "output_type": "execute_result"
    }
   ],
   "source": [
    "my_musician.name"
   ]
  },
  {
   "cell_type": "code",
   "execution_count": 93,
   "id": "457dec9b",
   "metadata": {},
   "outputs": [],
   "source": [
    "my_musician.name = \"Lars\""
   ]
  },
  {
   "cell_type": "code",
   "execution_count": 94,
   "id": "aee985f6",
   "metadata": {},
   "outputs": [
    {
     "data": {
      "text/plain": [
       "'Lars'"
      ]
     },
     "execution_count": 94,
     "metadata": {},
     "output_type": "execute_result"
    }
   ],
   "source": [
    "my_musician.name"
   ]
  },
  {
   "cell_type": "code",
   "execution_count": 95,
   "id": "3f8be6bb",
   "metadata": {},
   "outputs": [
    {
     "data": {
      "text/plain": [
       "'Guitar'"
      ]
     },
     "execution_count": 95,
     "metadata": {},
     "output_type": "execute_result"
    }
   ],
   "source": [
    "my_musician.instrument"
   ]
  },
  {
   "cell_type": "code",
   "execution_count": 96,
   "id": "5448508a",
   "metadata": {},
   "outputs": [
    {
     "data": {
      "text/plain": [
       "'musician'"
      ]
     },
     "execution_count": 96,
     "metadata": {},
     "output_type": "execute_result"
    }
   ],
   "source": [
    "my_musician.job"
   ]
  },
  {
   "cell_type": "code",
   "execution_count": 97,
   "id": "17b4b11d",
   "metadata": {},
   "outputs": [],
   "source": [
    "my_musician.job = \"singer\""
   ]
  },
  {
   "cell_type": "code",
   "execution_count": 98,
   "id": "dbaab788",
   "metadata": {},
   "outputs": [
    {
     "data": {
      "text/plain": [
       "'singer'"
      ]
     },
     "execution_count": 98,
     "metadata": {},
     "output_type": "execute_result"
    }
   ],
   "source": [
    "my_musician.job"
   ]
  },
  {
   "cell_type": "code",
   "execution_count": 99,
   "id": "cb49146a",
   "metadata": {},
   "outputs": [
    {
     "name": "stdout",
     "output_type": "stream",
     "text": [
      "We are the champions! Guitar\n"
     ]
    }
   ],
   "source": [
    "my_musician.sing()"
   ]
  },
  {
   "cell_type": "code",
   "execution_count": 117,
   "id": "1e73c52e",
   "metadata": {},
   "outputs": [],
   "source": [
    "class DogYear():\n",
    "    \n",
    "    year_factor = 7\n",
    "    name = \"Bar\"\n",
    "    \n",
    "    def __init__(self, age = 5):\n",
    "        self.age = age\n",
    "        self.age_multipiled = age * 7\n",
    "        \n",
    "    def calculation(self):\n",
    "        return self.age * DogYear.year_factor"
   ]
  },
  {
   "cell_type": "code",
   "execution_count": 118,
   "id": "ec69f8c7",
   "metadata": {},
   "outputs": [],
   "source": [
    "my_dog = DogYear()"
   ]
  },
  {
   "cell_type": "code",
   "execution_count": 119,
   "id": "450ef27d",
   "metadata": {},
   "outputs": [
    {
     "data": {
      "text/plain": [
       "35"
      ]
     },
     "execution_count": 119,
     "metadata": {},
     "output_type": "execute_result"
    }
   ],
   "source": [
    "my_dog.calculation()"
   ]
  },
  {
   "cell_type": "code",
   "execution_count": 120,
   "id": "bb99d2ab",
   "metadata": {},
   "outputs": [
    {
     "data": {
      "text/plain": [
       "35"
      ]
     },
     "execution_count": 120,
     "metadata": {},
     "output_type": "execute_result"
    }
   ],
   "source": [
    "my_dog.age_multipiled"
   ]
  },
  {
   "cell_type": "markdown",
   "id": "596ce477",
   "metadata": {},
   "source": [
    "## inheritance"
   ]
  },
  {
   "cell_type": "code",
   "execution_count": 125,
   "id": "d0cc8467",
   "metadata": {},
   "outputs": [],
   "source": [
    "class Class1():\n",
    "    \n",
    "    def __init__(self):\n",
    "        print(\"Class 1 created\")\n",
    "        \n",
    "    def method_1(self):\n",
    "        print(\"method 1\")\n",
    "        \n",
    "    def method_2(self):\n",
    "        print(\"method 2\")"
   ]
  },
  {
   "cell_type": "code",
   "execution_count": 126,
   "id": "9d3d588e",
   "metadata": {},
   "outputs": [
    {
     "name": "stdout",
     "output_type": "stream",
     "text": [
      "Class 1 created\n"
     ]
    }
   ],
   "source": [
    "my_instance = Class1()"
   ]
  },
  {
   "cell_type": "code",
   "execution_count": 127,
   "id": "3fb5131b",
   "metadata": {},
   "outputs": [
    {
     "name": "stdout",
     "output_type": "stream",
     "text": [
      "method 1\n"
     ]
    }
   ],
   "source": [
    "my_instance.method_1()"
   ]
  },
  {
   "cell_type": "code",
   "execution_count": 128,
   "id": "18ea0200",
   "metadata": {},
   "outputs": [
    {
     "name": "stdout",
     "output_type": "stream",
     "text": [
      "method 2\n"
     ]
    }
   ],
   "source": [
    "my_instance.method_2()"
   ]
  },
  {
   "cell_type": "code",
   "execution_count": 138,
   "id": "e5c1d4d4",
   "metadata": {},
   "outputs": [],
   "source": [
    "class Class2(Class1):\n",
    "    \n",
    "    def __init__(self):\n",
    "        Class1.__init__(self)\n",
    "        print(\"Class 2 created\")\n",
    "    \n",
    "    def method_3(self):\n",
    "        print(\"method 3\")\n",
    "        \n",
    "    #override\n",
    "    def method_1(self):\n",
    "        print(\"method 1 override\")"
   ]
  },
  {
   "cell_type": "code",
   "execution_count": 139,
   "id": "9e28c38e",
   "metadata": {},
   "outputs": [
    {
     "name": "stdout",
     "output_type": "stream",
     "text": [
      "Class 1 created\n",
      "Class 2 created\n"
     ]
    }
   ],
   "source": [
    "my_instance_2 = Class2()"
   ]
  },
  {
   "cell_type": "code",
   "execution_count": 140,
   "id": "cd15ee71",
   "metadata": {},
   "outputs": [
    {
     "name": "stdout",
     "output_type": "stream",
     "text": [
      "method 2\n"
     ]
    }
   ],
   "source": [
    "my_instance_2.method_2()"
   ]
  },
  {
   "cell_type": "code",
   "execution_count": 142,
   "id": "fe72103d",
   "metadata": {},
   "outputs": [
    {
     "name": "stdout",
     "output_type": "stream",
     "text": [
      "method 3\n"
     ]
    }
   ],
   "source": [
    "my_instance_2.method_3()"
   ]
  },
  {
   "cell_type": "code",
   "execution_count": 143,
   "id": "371478b8",
   "metadata": {},
   "outputs": [
    {
     "name": "stdout",
     "output_type": "stream",
     "text": [
      "method 1 override\n"
     ]
    }
   ],
   "source": [
    "my_instance_2.method_1()"
   ]
  },
  {
   "cell_type": "code",
   "execution_count": 145,
   "id": "b60ae75a",
   "metadata": {},
   "outputs": [
    {
     "name": "stdout",
     "output_type": "stream",
     "text": [
      "method 1\n"
     ]
    }
   ],
   "source": [
    "my_instance.method_1()"
   ]
  },
  {
   "cell_type": "markdown",
   "id": "d87eda7b",
   "metadata": {},
   "source": [
    "## polymorphism"
   ]
  },
  {
   "cell_type": "code",
   "execution_count": 146,
   "id": "a5acb0cd",
   "metadata": {},
   "outputs": [],
   "source": [
    "class Apple():\n",
    "    \n",
    "    def __init__(self, name):\n",
    "        self.name = name\n",
    "    \n",
    "    def information(self):\n",
    "        return self.name + \" 100 calories\""
   ]
  },
  {
   "cell_type": "code",
   "execution_count": 147,
   "id": "00cba575",
   "metadata": {},
   "outputs": [],
   "source": [
    "class Banana():\n",
    "    \n",
    "    def __init__(self, name):\n",
    "        self.name = name\n",
    "        \n",
    "    def information(self):\n",
    "        return self.name + \" 200 calories\""
   ]
  },
  {
   "cell_type": "code",
   "execution_count": 148,
   "id": "126ea553",
   "metadata": {},
   "outputs": [],
   "source": [
    "banana = Banana(\"banana\")"
   ]
  },
  {
   "cell_type": "code",
   "execution_count": 149,
   "id": "58dc56af",
   "metadata": {},
   "outputs": [],
   "source": [
    "apple = Apple(\"apple\")"
   ]
  },
  {
   "cell_type": "code",
   "execution_count": 150,
   "id": "8c4e7f89",
   "metadata": {},
   "outputs": [
    {
     "data": {
      "text/plain": [
       "'banana 200 calories'"
      ]
     },
     "execution_count": 150,
     "metadata": {},
     "output_type": "execute_result"
    }
   ],
   "source": [
    "banana.information()"
   ]
  },
  {
   "cell_type": "code",
   "execution_count": 151,
   "id": "af5f6c52",
   "metadata": {},
   "outputs": [
    {
     "data": {
      "text/plain": [
       "'apple 100 calories'"
      ]
     },
     "execution_count": 151,
     "metadata": {},
     "output_type": "execute_result"
    }
   ],
   "source": [
    "apple.information()"
   ]
  },
  {
   "cell_type": "code",
   "execution_count": 153,
   "id": "282dbd09",
   "metadata": {},
   "outputs": [],
   "source": [
    "fruit_list = [banana, apple]"
   ]
  },
  {
   "cell_type": "code",
   "execution_count": 154,
   "id": "4feb28be",
   "metadata": {},
   "outputs": [
    {
     "name": "stdout",
     "output_type": "stream",
     "text": [
      "banana 200 calories\n",
      "apple 100 calories\n"
     ]
    }
   ],
   "source": [
    "for fruit in fruit_list:\n",
    "    print(fruit.information())"
   ]
  },
  {
   "cell_type": "code",
   "execution_count": 155,
   "id": "06af39d4",
   "metadata": {},
   "outputs": [],
   "source": [
    "def get_info(fruit):\n",
    "    print(fruit.information())"
   ]
  },
  {
   "cell_type": "code",
   "execution_count": 156,
   "id": "2e5ea5d7",
   "metadata": {},
   "outputs": [
    {
     "name": "stdout",
     "output_type": "stream",
     "text": [
      "banana 200 calories\n"
     ]
    }
   ],
   "source": [
    "get_info(banana)"
   ]
  },
  {
   "cell_type": "code",
   "execution_count": 157,
   "id": "51e67715",
   "metadata": {},
   "outputs": [
    {
     "name": "stdout",
     "output_type": "stream",
     "text": [
      "apple 100 calories\n"
     ]
    }
   ],
   "source": [
    "get_info(apple)"
   ]
  },
  {
   "cell_type": "code",
   "execution_count": null,
   "id": "5b5f26ca",
   "metadata": {},
   "outputs": [],
   "source": []
  }
 ],
 "metadata": {
  "kernelspec": {
   "display_name": "Python 3",
   "language": "python",
   "name": "python3"
  },
  "language_info": {
   "codemirror_mode": {
    "name": "ipython",
    "version": 3
   },
   "file_extension": ".py",
   "mimetype": "text/x-python",
   "name": "python",
   "nbconvert_exporter": "python",
   "pygments_lexer": "ipython3",
   "version": "3.8.8"
  }
 },
 "nbformat": 4,
 "nbformat_minor": 5
}
